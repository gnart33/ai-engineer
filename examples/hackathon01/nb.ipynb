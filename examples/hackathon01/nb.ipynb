{
 "cells": [
  {
   "cell_type": "code",
   "execution_count": 1,
   "metadata": {},
   "outputs": [],
   "source": [
    "from pathlib import Path\n",
    "import sys\n",
    "project_root = Path().resolve().parent\n",
    "\n",
    "if str(project_root) not in sys.path:\n",
    "    sys.path.append(str(project_root))\n",
    "    print(f\"Added {project_root} to sys.path\")\n",
    "\n",
    "# sys.path.append(str(project_root / \"src\"))"
   ]
  },
  {
   "cell_type": "code",
   "execution_count": 2,
   "metadata": {},
   "outputs": [
    {
     "name": "stderr",
     "output_type": "stream",
     "text": [
      "2024-11-06 12:55:29,641 - chromadb.telemetry.product.posthog - INFO - Anonymized telemetry enabled. See                     https://docs.trychroma.com/telemetry for more information.\n",
      "/Users/nvtrang/Library/Caches/pypoetry/virtualenvs/ai-engineer-ooiPA4kL-py3.10/lib/python3.10/site-packages/sentence_transformers/cross_encoder/CrossEncoder.py:13: TqdmExperimentalWarning: Using `tqdm.autonotebook.tqdm` in notebook mode. Use `tqdm.tqdm` instead to force console mode (e.g. in jupyter console)\n",
      "  from tqdm.autonotebook import tqdm, trange\n",
      "2024-11-06 12:55:31,374 - sentence_transformers.SentenceTransformer - INFO - Load pretrained SentenceTransformer: all-MiniLM-L6-v2\n",
      "2024-11-06 12:55:35,943 - chromadb.telemetry.product.posthog - INFO - Anonymized telemetry enabled. See                     https://docs.trychroma.com/telemetry for more information.\n",
      "2024-11-06 12:55:35,997 - autogen.agentchat.contrib.retrieve_user_proxy_agent - INFO - \u001b[32mUse the existing collection `groupchat`.\u001b[0m\n",
      "2024-11-06 12:55:36,103 - autogen.agentchat.contrib.retrieve_user_proxy_agent - INFO - Found 11 chunks.\u001b[0m\n",
      "2024-11-06 12:55:36,111 - autogen.agentchat.contrib.vectordb.chromadb - INFO - No content embedding is provided. Will use the VectorDB's embedding function to generate the content embedding.\u001b[0m\n"
     ]
    },
    {
     "name": "stdout",
     "output_type": "stream",
     "text": [
      "Trying to create collection.\n"
     ]
    },
    {
     "data": {
      "application/vnd.jupyter.widget-view+json": {
       "model_id": "ef4e9e2ab36343f0879bd3c6306c8e6b",
       "version_major": 2,
       "version_minor": 0
      },
      "text/plain": [
       "Batches:   0%|          | 0/1 [00:00<?, ?it/s]"
      ]
     },
     "metadata": {},
     "output_type": "display_data"
    },
    {
     "ename": "",
     "evalue": "",
     "output_type": "error",
     "traceback": [
      "\u001b[1;31mThe Kernel crashed while executing code in the current cell or a previous cell. \n",
      "\u001b[1;31mPlease review the code in the cell(s) to identify a possible cause of the failure. \n",
      "\u001b[1;31mClick <a href='https://aka.ms/vscodeJupyterKernelCrash'>here</a> for more info. \n",
      "\u001b[1;31mView Jupyter <a href='command:jupyter.viewOutput'>log</a> for further details."
     ]
    }
   ],
   "source": [
    "from ai_engineer.generate_ideas import ChatManager\n",
    "import os\n",
    "\n",
    "import logging\n",
    "\n",
    "# Configure logging with both console and file output\n",
    "logging.basicConfig(\n",
    "    level=logging.INFO,\n",
    "    format='%(asctime)s - %(name)s - %(levelname)s - %(message)s',\n",
    "    handlers=[\n",
    "        logging.StreamHandler(),  # Console output\n",
    "        logging.FileHandler('trylog.log')  # File output\n",
    "    ]\n",
    ")\n",
    "\n",
    "chat_manager = ChatManager(\n",
    "        problem=\"What is the best project to build for the hackathon?\",\n",
    "        # docs_path=\"examples/hackathon01/resource/document/aggregated.md\",\n",
    "        model=\"gpt-4o-mini\",\n",
    "        api_key=os.environ[\"OPENAI_API_KEY\"],\n",
    "    )\n",
    "chat_manager.rag_chat()"
   ]
  },
  {
   "cell_type": "code",
   "execution_count": null,
   "metadata": {},
   "outputs": [],
   "source": [
    "import polars as pl\n",
    "import json\n",
    "\n",
    "def parse_log_line(line):\n",
    "    \"\"\"Parse a single log line into a dictionary.\"\"\"\n",
    "    try:\n",
    "        # Try to parse as JSON\n",
    "        return json.loads(line)\n",
    "    except json.JSONDecodeError:\n",
    "        # For non-JSON lines (like \"Started new session...\")\n",
    "        if line.startswith(\"Started new session\"):\n",
    "            return {\n",
    "                \"event_type\": \"session_start\",\n",
    "                \"message\": line.strip()\n",
    "            }\n",
    "        elif line.startswith(\"[file_logger]\"):\n",
    "            return {\n",
    "                \"event_type\": \"file_logger\",\n",
    "                \"message\": line.strip()[13:]  # Remove \"[file_logger] \" prefix\n",
    "            }\n",
    "        return None\n",
    "\n",
    "def load_autogen_logs(file_path):\n",
    "    \"\"\"Load autogen logs into a Polar DataFrame.\"\"\"\n",
    "    # Read all lines from the file\n",
    "    with open(file_path, 'r') as f:\n",
    "        lines = f.readlines()\n",
    "    \n",
    "    # Parse each line into a dictionary\n",
    "    parsed_data = []\n",
    "    for line in lines:\n",
    "        line = line.strip()\n",
    "        if not line:  # Skip empty lines\n",
    "            continue\n",
    "            \n",
    "        parsed = parse_log_line(line)\n",
    "        if parsed:\n",
    "            parsed_data.append(parsed)\n",
    "    \n",
    "    # Convert to Polars DataFrame\n",
    "    df = pl.DataFrame(parsed_data)\n",
    "    return df\n",
    "\n",
    "# Usage\n",
    "# if __name__ == \"__main__\":\n",
    "log_file = project_root / \"autogen_logs/runtime.log\"  # Adjust path as needed\n",
    "df = load_autogen_logs(log_file)\n",
    "\n",
    "# Print basic information about the DataFrame\n",
    "print(\"\\nDataFrame Info:\")\n",
    "print(f\"Shape: {df.shape}\")\n",
    "print(\"\\nColumns:\", df.columns)\n",
    "\n",
    "# Print first few rows\n",
    "print(\"\\nFirst few rows:\")\n",
    "print(df.head())"
   ]
  },
  {
   "cell_type": "code",
   "execution_count": null,
   "metadata": {},
   "outputs": [],
   "source": [
    "# df[['event_type', 'message', 'id',]]\n",
    "for message in df['message']:\n",
    "    print(message)\n"
   ]
  },
  {
   "cell_type": "code",
   "execution_count": null,
   "metadata": {},
   "outputs": [],
   "source": [
    "import sqlite3\n",
    "\n",
    "# Connect to the SQLite database\n",
    "db_path = project_root / \"tmp/db/chroma.sqlite3\"  # Adjust path as needed\n",
    "conn = sqlite3.connect(db_path)\n",
    "\n",
    "# Read data from the database\n",
    "# Get list of all tables in the database\n",
    "# query_tables = \"SELECT name FROM sqlite_master WHERE type='table'\"\n",
    "# tables = pl.read_database(query=query_tables, connection=conn)\n",
    "# print(\"\\nAvailable tables in database:\")\n",
    "# print(tables)\n",
    "\n",
    "query = \"SELECT * FROM segment_metadata\"  # Adjust table name if different\n",
    "df_sqlite = pl.read_database(query=query, connection=conn)\n",
    "\n",
    "# Print basic information about the DataFrame from SQLite\n",
    "print(\"\\nSQLite DataFrame Info:\")\n",
    "print(f\"Shape: {df_sqlite.shape}\")\n",
    "print(\"\\nColumns:\", df_sqlite.columns)\n",
    "\n",
    "# Print first few rows\n",
    "print(\"\\nFirst few rows from SQLite:\")\n",
    "print(df_sqlite.head())\n",
    "\n",
    "# Close the connection\n",
    "conn.close()\n"
   ]
  },
  {
   "cell_type": "code",
   "execution_count": null,
   "metadata": {},
   "outputs": [],
   "source": [
    "\n",
    "for name in tables['name']:\n",
    "    print(name)\n"
   ]
  },
  {
   "cell_type": "code",
   "execution_count": null,
   "metadata": {},
   "outputs": [],
   "source": []
  }
 ],
 "metadata": {
  "kernelspec": {
   "display_name": "ai-engineer-ooiPA4kL-py3.12",
   "language": "python",
   "name": "python3"
  },
  "language_info": {
   "codemirror_mode": {
    "name": "ipython",
    "version": 3
   },
   "file_extension": ".py",
   "mimetype": "text/x-python",
   "name": "python",
   "nbconvert_exporter": "python",
   "pygments_lexer": "ipython3",
   "version": "3.10.15"
  }
 },
 "nbformat": 4,
 "nbformat_minor": 2
}
